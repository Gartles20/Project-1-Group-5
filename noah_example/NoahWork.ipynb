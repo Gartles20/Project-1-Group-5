{
 "cells": [
  {
   "cell_type": "code",
   "execution_count": 21,
   "id": "89d66a0e-1aee-4fed-b689-1b9ec89a08ae",
   "metadata": {},
   "outputs": [
    {
     "ename": "ModuleNotFoundError",
     "evalue": "No module named 'dataframes'",
     "output_type": "error",
     "traceback": [
      "\u001b[1;31m---------------------------------------------------------------------------\u001b[0m",
      "\u001b[1;31mModuleNotFoundError\u001b[0m                       Traceback (most recent call last)",
      "Cell \u001b[1;32mIn[21], line 8\u001b[0m\n\u001b[0;32m      5\u001b[0m \u001b[38;5;28;01mimport\u001b[39;00m \u001b[38;5;21;01mos\u001b[39;00m\n\u001b[0;32m      6\u001b[0m \u001b[38;5;28;01mimport\u001b[39;00m \u001b[38;5;21;01msys\u001b[39;00m\n\u001b[1;32m----> 8\u001b[0m \u001b[38;5;28;01mfrom\u001b[39;00m \u001b[38;5;21;01mdataframes\u001b[39;00m\u001b[38;5;21;01m.\u001b[39;00m\u001b[38;5;21;01mipynb\u001b[39;00m \u001b[38;5;28;01mimport\u001b[39;00m df_Athlete_Event_Details\n\u001b[0;32m      9\u001b[0m \u001b[38;5;28;01mfrom\u001b[39;00m \u001b[38;5;21;01mdataframes\u001b[39;00m\u001b[38;5;21;01m.\u001b[39;00m\u001b[38;5;21;01mipynb\u001b[39;00m \u001b[38;5;28;01mimport\u001b[39;00m df_Country_Profiles\n\u001b[0;32m     10\u001b[0m \u001b[38;5;28;01mfrom\u001b[39;00m \u001b[38;5;21;01mdataframes\u001b[39;00m\u001b[38;5;21;01m.\u001b[39;00m\u001b[38;5;21;01mipynb\u001b[39;00m \u001b[38;5;28;01mimport\u001b[39;00m df_Athlete_Event_Details\n",
      "\u001b[1;31mModuleNotFoundError\u001b[0m: No module named 'dataframes'"
     ]
    }
   ],
   "source": [
    "#Dependencies\n",
    "import matplotlib.pyplot as plt\n",
    "import pandas as pd\n",
    "import numpy as np\n",
    "import os\n",
    "import sys\n"
   ]
  },
  {
   "cell_type": "code",
   "execution_count": 12,
   "id": "d3b915fd-ab83-4153-9758-33c19fb86b1f",
   "metadata": {},
   "outputs": [
    {
     "name": "stdout",
     "output_type": "stream",
     "text": [
      "<class 'pandas.core.frame.DataFrame'>\n",
      "RangeIndex: 316834 entries, 0 to 316833\n",
      "Data columns (total 11 columns):\n",
      " #   Column       Non-Null Count   Dtype \n",
      "---  ------       --------------   ----- \n",
      " 0   edition      316834 non-null  object\n",
      " 1   edition_id   316834 non-null  int64 \n",
      " 2   country_noc  316834 non-null  object\n",
      " 3   sport        316834 non-null  object\n",
      " 4   event        316834 non-null  object\n",
      " 5   result_id    316834 non-null  int64 \n",
      " 6   athlete      316834 non-null  object\n",
      " 7   athlete_id   316834 non-null  int64 \n",
      " 8   pos          316834 non-null  object\n",
      " 9   medal        44687 non-null   object\n",
      " 10  isTeamSport  316834 non-null  bool  \n",
      "dtypes: bool(1), int64(3), object(7)\n",
      "memory usage: 24.5+ MB\n"
     ]
    }
   ],
   "source": [
    "# Import our data into pandas from CSV\n",
    "filepath1 = \"Datasets/Olympic_Athlete_Event_Details.csv\"\n",
    "filepath2 = \"Datasets/Olympic_Country_Profiles.csv\"\n",
    "filepath3 = \"Datasets/Olympic_Event_Results.csv\"\n",
    "filepath4 = \"Datasets/Olympic_Games_Summary.csv\"\n",
    "filepath5 = \"Datasets/Olympic_Medal_Tally_History.csv\"\n",
    "\n",
    "df_Athlete_Event_Details = pd.read_csv(filepath1)\n",
    "df_Country_Profiles = pd.read_csv(filepath2)\n",
    "df_Event_Results = pd.read_csv(filepath3)\n",
    "df_Games_Summary = pd.read_csv(filepath4)\n",
    "df_Medal_Tally_History = pd.read_csv(filepath5)\n",
    "\n",
    "\n",
    "\n",
    "df_Athlete_Event_Details.info()"
   ]
  },
  {
   "cell_type": "code",
   "execution_count": 10,
   "id": "8304589e-e3c5-4c18-8153-941f9494c535",
   "metadata": {},
   "outputs": [
    {
     "data": {
      "text/html": [
       "<div>\n",
       "<style scoped>\n",
       "    .dataframe tbody tr th:only-of-type {\n",
       "        vertical-align: middle;\n",
       "    }\n",
       "\n",
       "    .dataframe tbody tr th {\n",
       "        vertical-align: top;\n",
       "    }\n",
       "\n",
       "    .dataframe thead th {\n",
       "        text-align: right;\n",
       "    }\n",
       "</style>\n",
       "<table border=\"1\" class=\"dataframe\">\n",
       "  <thead>\n",
       "    <tr style=\"text-align: right;\">\n",
       "      <th></th>\n",
       "      <th>result_id</th>\n",
       "      <th>event_title</th>\n",
       "      <th>edition</th>\n",
       "      <th>edition_id</th>\n",
       "      <th>sport</th>\n",
       "      <th>sport_url</th>\n",
       "      <th>result_date</th>\n",
       "      <th>result_location</th>\n",
       "      <th>result_participants</th>\n",
       "      <th>result_format</th>\n",
       "      <th>result_detail</th>\n",
       "      <th>result_description</th>\n",
       "    </tr>\n",
       "  </thead>\n",
       "  <tbody>\n",
       "    <tr>\n",
       "      <th>6741</th>\n",
       "      <td>316234</td>\n",
       "      <td>Lightweight (≤73 kilograms), Men</td>\n",
       "      <td>2012 Summer Olympics</td>\n",
       "      <td>54</td>\n",
       "      <td>Judo</td>\n",
       "      <td>/editions/54/sports/JUD</td>\n",
       "      <td>30 July 2012</td>\n",
       "      <td>NaN</td>\n",
       "      <td>34 from 34 countries</td>\n",
       "      <td>Losing quarter-finalists compete against losin...</td>\n",
       "      <td>na</td>\n",
       "      <td>Riki Nakaya of Japan, the 2011 World Champion,...</td>\n",
       "    </tr>\n",
       "  </tbody>\n",
       "</table>\n",
       "</div>"
      ],
      "text/plain": [
       "      result_id                       event_title               edition  \\\n",
       "6741     316234  Lightweight (≤73 kilograms), Men  2012 Summer Olympics   \n",
       "\n",
       "      edition_id sport                sport_url   result_date result_location  \\\n",
       "6741          54  Judo  /editions/54/sports/JUD  30 July 2012             NaN   \n",
       "\n",
       "       result_participants                                      result_format  \\\n",
       "6741  34 from 34 countries  Losing quarter-finalists compete against losin...   \n",
       "\n",
       "     result_detail                                 result_description  \n",
       "6741            na  Riki Nakaya of Japan, the 2011 World Champion,...  "
      ]
     },
     "execution_count": 10,
     "metadata": {},
     "output_type": "execute_result"
    }
   ],
   "source": [
    "rows_with_nan_any = df_Event_Results[df_Event_Results.isnull().any(axis=1)]\n",
    "rows_with_nan_any"
   ]
  },
  {
   "cell_type": "code",
   "execution_count": null,
   "id": "71491747-0189-4d19-b05d-bcd7eb626927",
   "metadata": {},
   "outputs": [],
   "source": [
    "# df_Athlete_Event_Details['country_noc'] = df_Athlete_Event_Details['country_noc'].replace({'URS': 'RUS'})\n",
    "# df_Athlete_Event_Details['country_noc'] = df_Athlete_Event_Details['country_noc'].replace({'ROC': 'RUS'})\n",
    "# \n",
    "\n",
    "\n",
    "# Group by country and aggregate medals\n",
    "# df_combined = df_Athlete_Event_Details.groupby('country_noc', as_index=False).sum()\n",
    "# df_Athlete_Event_Details.loc[df_Athlete_Event_Details['country_noc'] == 'ROC'].info"
   ]
  },
  {
   "cell_type": "code",
   "execution_count": 25,
   "id": "33f20bae-d207-44f0-86f0-c16f6ce51773",
   "metadata": {},
   "outputs": [
    {
     "data": {
      "text/plain": [
       "<bound method DataFrame.info of      noc             country\n",
       "0    AFG         Afghanistan\n",
       "1    ALB             Albania\n",
       "2    ALG             Algeria\n",
       "3    ASA      American Samoa\n",
       "4    AND             Andorra\n",
       "..   ...                 ...\n",
       "230  YEM               Yemen\n",
       "231  YUG          Yugoslavia\n",
       "232  ZAM              Zambia\n",
       "233  ZIM            Zimbabwe\n",
       "234  ROC  Russian Federation\n",
       "\n",
       "[235 rows x 2 columns]>"
      ]
     },
     "execution_count": 25,
     "metadata": {},
     "output_type": "execute_result"
    }
   ],
   "source": [
    "df_Country_Profiles['country'] = df_Country_Profiles['country'].replace({'Soviet Union': 'Russian Federation'})\n",
    "df_Country_Profiles['country'] = df_Country_Profiles['country'].replace({'Russian Olympic Committee': 'Russian Federation'})\n",
    "df_Country_Profiles['country'] = df_Country_Profiles['country'].replace({'ROC': 'Russian Federation'})\n",
    "df_Country_Profiles['country'] = df_Country_Profiles['country'].replace({'Unified Team': 'Russian Federation'})\n",
    "df_Country_Profiles['country'] = df_Country_Profiles['country'].replace({'East Germany': 'Germany'})\n",
    "df_Country_Profiles['country'] = df_Country_Profiles['country'].replace({'West Germany': 'Germany'})\n",
    "df_Country_Profiles['country'] = df_Country_Profiles['country'].replace({'Saar': 'Germany'})\n",
    "df_Country_Profiles['country'] = df_Country_Profiles['country'].replace({'Bohemia': 'Czechia'})\n",
    "df_Country_Profiles['country'] = df_Country_Profiles['country'].replace({'Australasia': 'Australia'})\n",
    "df_Country_Profiles['country'] = df_Country_Profiles['country'].replace({'Rhodesia': 'Zimbabwe'})\n",
    "df_Country_Profiles['country'] = df_Country_Profiles['country'].replace({'South Yemen': 'Yemen'})\n",
    "df_Country_Profiles['country'] = df_Country_Profiles['country'].replace({'North Yemen': 'Yemen'})\n",
    "df_Country_Profiles['country'] = df_Country_Profiles['country'].replace({'Serbia and Montenegro': 'Serbia'})\n",
    "df_Country_Profiles['country'] = df_Country_Profiles['country'].replace({'Rhodesia': 'Zimbabwe'})\n",
    "df_Country_Profiles['country'] = df_Country_Profiles['country'].replace({\"Democratic People's Republic of Korea\": \"Republic of Korea\"})\n",
    "df_Country_Profiles['country'] = df_Country_Profiles['country'].replace({\"Korea Town\": \"Republic of Korea\"})\n",
    "df_Country_Profiles['country'] = df_Country_Profiles['country'].replace({'South Vietnam': 'Vietnam'})\n"
   ]
  },
  {
   "cell_type": "code",
   "execution_count": null,
   "id": "3accef49-f67b-472c-8c67-1eeba8ad8180",
   "metadata": {},
   "outputs": [],
   "source": []
  }
 ],
 "metadata": {
  "kernelspec": {
   "display_name": "Python 3 (ipykernel)",
   "language": "python",
   "name": "python3"
  },
  "language_info": {
   "codemirror_mode": {
    "name": "ipython",
    "version": 3
   },
   "file_extension": ".py",
   "mimetype": "text/x-python",
   "name": "python",
   "nbconvert_exporter": "python",
   "pygments_lexer": "ipython3",
   "version": "3.10.15"
  }
 },
 "nbformat": 4,
 "nbformat_minor": 5
}
