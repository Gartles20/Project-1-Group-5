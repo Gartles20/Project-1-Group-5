{
 "cells": [
  {
   "cell_type": "code",
   "execution_count": 13,
   "metadata": {},
   "outputs": [],
   "source": [
    "# Import Dependencies\n",
    "import matplotlib.pyplot as plt\n",
    "import pandas as pd\n",
    "import numpy as np"
   ]
  },
  {
   "cell_type": "code",
<<<<<<< HEAD
   "execution_count": 14,
=======
   "execution_count": 2,
>>>>>>> 106b2da8c4d00899144a15316801f8bcc69373f8
   "metadata": {},
   "outputs": [
    {
     "name": "stdout",
     "output_type": "stream",
     "text": [
      "<class 'pandas.core.frame.DataFrame'>\n",
      "RangeIndex: 316834 entries, 0 to 316833\n",
      "Data columns (total 11 columns):\n",
      " #   Column       Non-Null Count   Dtype \n",
      "---  ------       --------------   ----- \n",
      " 0   edition      316834 non-null  object\n",
      " 1   edition_id   316834 non-null  int64 \n",
      " 2   country_noc  316834 non-null  object\n",
      " 3   sport        316834 non-null  object\n",
      " 4   event        316834 non-null  object\n",
      " 5   result_id    316834 non-null  int64 \n",
      " 6   athlete      316834 non-null  object\n",
      " 7   athlete_id   316834 non-null  int64 \n",
      " 8   pos          316834 non-null  object\n",
      " 9   medal        44687 non-null   object\n",
      " 10  isTeamSport  316834 non-null  bool  \n",
      "dtypes: bool(1), int64(3), object(7)\n",
      "memory usage: 24.5+ MB\n"
     ]
    }
   ],
   "source": [
    "# Import our data into pandas from CSV\n",
    "filepath1 = \"Datasets/Olympic_Athlete_Event_Details.csv\"\n",
    "filepath2 = \"Datasets/Olympic_Country_Profiles.csv\"\n",
    "filepath3 = \"Datasets/Olympic_Event_Results.csv\"\n",
    "filepath4 = \"Datasets/Olympic_Games_Summary.csv\"\n",
    "filepath5 = \"Datasets/Olympic_Medal_Tally_History.csv\"\n",
    "\n",
    "df_Athlete_Event_Details = pd.read_csv(filepath1)\n",
    "df_Country_Profiles = pd.read_csv(filepath2)\n",
    "df_Event_Results = pd.read_csv(filepath3)\n",
    "df_Games_Summary = pd.read_csv(filepath4)\n",
    "df_Medal_Tally_History = pd.read_csv(filepath5)\n",
    "\n",
    "\n",
    "\n",
    "df_Athlete_Event_Details.info()"
   ]
  },
  {
   "cell_type": "code",
<<<<<<< HEAD
   "execution_count": 15,
=======
   "execution_count": 3,
>>>>>>> 106b2da8c4d00899144a15316801f8bcc69373f8
   "metadata": {},
   "outputs": [
    {
     "name": "stdout",
     "output_type": "stream",
     "text": [
      "<class 'pandas.core.frame.DataFrame'>\n",
      "RangeIndex: 235 entries, 0 to 234\n",
      "Data columns (total 2 columns):\n",
      " #   Column   Non-Null Count  Dtype \n",
      "---  ------   --------------  ----- \n",
      " 0   noc      235 non-null    object\n",
      " 1   country  235 non-null    object\n",
      "dtypes: object(2)\n",
      "memory usage: 3.8+ KB\n"
     ]
    },
    {
     "data": {
      "text/html": [
       "<div>\n",
       "<style scoped>\n",
       "    .dataframe tbody tr th:only-of-type {\n",
       "        vertical-align: middle;\n",
       "    }\n",
       "\n",
       "    .dataframe tbody tr th {\n",
       "        vertical-align: top;\n",
       "    }\n",
       "\n",
       "    .dataframe thead th {\n",
       "        text-align: right;\n",
       "    }\n",
       "</style>\n",
       "<table border=\"1\" class=\"dataframe\">\n",
       "  <thead>\n",
       "    <tr style=\"text-align: right;\">\n",
       "      <th></th>\n",
       "      <th>noc</th>\n",
       "      <th>country</th>\n",
       "    </tr>\n",
       "  </thead>\n",
       "  <tbody>\n",
       "    <tr>\n",
       "      <th>0</th>\n",
       "      <td>AFG</td>\n",
       "      <td>Afghanistan</td>\n",
       "    </tr>\n",
       "    <tr>\n",
       "      <th>1</th>\n",
       "      <td>ALB</td>\n",
       "      <td>Albania</td>\n",
       "    </tr>\n",
       "    <tr>\n",
       "      <th>2</th>\n",
       "      <td>ALG</td>\n",
       "      <td>Algeria</td>\n",
       "    </tr>\n",
       "    <tr>\n",
       "      <th>3</th>\n",
       "      <td>ASA</td>\n",
       "      <td>American Samoa</td>\n",
       "    </tr>\n",
       "    <tr>\n",
       "      <th>4</th>\n",
       "      <td>AND</td>\n",
       "      <td>Andorra</td>\n",
       "    </tr>\n",
       "  </tbody>\n",
       "</table>\n",
       "</div>"
      ],
      "text/plain": [
       "   noc         country\n",
       "0  AFG     Afghanistan\n",
       "1  ALB         Albania\n",
       "2  ALG         Algeria\n",
       "3  ASA  American Samoa\n",
       "4  AND         Andorra"
      ]
     },
<<<<<<< HEAD
     "execution_count": 15,
=======
     "execution_count": 3,
>>>>>>> 106b2da8c4d00899144a15316801f8bcc69373f8
     "metadata": {},
     "output_type": "execute_result"
    }
   ],
   "source": [
    "df_Country_Profiles.info()\n",
    "df_Country_Profiles.head()"
   ]
  },
  {
   "cell_type": "code",
<<<<<<< HEAD
   "execution_count": 16,
=======
   "execution_count": 4,
>>>>>>> 106b2da8c4d00899144a15316801f8bcc69373f8
   "metadata": {},
   "outputs": [
    {
     "ename": "NameError",
     "evalue": "name 'df_Event_Details' is not defined",
     "output_type": "error",
     "traceback": [
      "\u001b[0;31m---------------------------------------------------------------------------\u001b[0m",
      "\u001b[0;31mNameError\u001b[0m                                 Traceback (most recent call last)",
      "Cell \u001b[0;32mIn[4], line 1\u001b[0m\n\u001b[0;32m----> 1\u001b[0m \u001b[43mdf_Event_Details\u001b[49m\u001b[38;5;241m.\u001b[39minfo()\n",
      "\u001b[0;31mNameError\u001b[0m: name 'df_Event_Details' is not defined"
     ]
    }
   ],
   "source": [
    "df_Athlete_Event_Details.info()"
   ]
  },
  {
   "cell_type": "code",
<<<<<<< HEAD
   "execution_count": 17,
=======
   "execution_count": 5,
>>>>>>> 106b2da8c4d00899144a15316801f8bcc69373f8
   "metadata": {},
   "outputs": [
    {
     "name": "stdout",
     "output_type": "stream",
     "text": [
      "<class 'pandas.core.frame.DataFrame'>\n",
      "RangeIndex: 7394 entries, 0 to 7393\n",
      "Data columns (total 12 columns):\n",
      " #   Column               Non-Null Count  Dtype \n",
      "---  ------               --------------  ----- \n",
      " 0   result_id            7394 non-null   int64 \n",
      " 1   event_title          7394 non-null   object\n",
      " 2   edition              7394 non-null   object\n",
      " 3   edition_id           7394 non-null   int64 \n",
      " 4   sport                7394 non-null   object\n",
      " 5   sport_url            7394 non-null   object\n",
      " 6   result_date          7394 non-null   object\n",
      " 7   result_location      7393 non-null   object\n",
      " 8   result_participants  7394 non-null   object\n",
      " 9   result_format        7394 non-null   object\n",
      " 10  result_detail        7394 non-null   object\n",
      " 11  result_description   7394 non-null   object\n",
      "dtypes: int64(2), object(10)\n",
      "memory usage: 693.3+ KB\n"
     ]
    }
   ],
   "source": [
    "df_Event_Results.info()"
   ]
  },
  {
   "cell_type": "code",
<<<<<<< HEAD
   "execution_count": 18,
=======
   "execution_count": 6,
>>>>>>> 106b2da8c4d00899144a15316801f8bcc69373f8
   "metadata": {},
   "outputs": [
    {
     "name": "stdout",
     "output_type": "stream",
     "text": [
      "<class 'pandas.core.frame.DataFrame'>\n",
      "RangeIndex: 64 entries, 0 to 63\n",
      "Data columns (total 11 columns):\n",
      " #   Column            Non-Null Count  Dtype \n",
      "---  ------            --------------  ----- \n",
      " 0   edition           64 non-null     object\n",
      " 1   edition_id        64 non-null     int64 \n",
      " 2   edition_url       64 non-null     object\n",
      " 3   year              64 non-null     int64 \n",
      " 4   city              64 non-null     object\n",
      " 5   country_flag_url  64 non-null     object\n",
      " 6   country_noc       64 non-null     object\n",
      " 7   start_date        55 non-null     object\n",
      " 8   end_date          54 non-null     object\n",
      " 9   competition_date  64 non-null     object\n",
      " 10  isHeld            5 non-null      object\n",
      "dtypes: int64(2), object(9)\n",
      "memory usage: 5.6+ KB\n"
     ]
    }
   ],
   "source": [
    "df_Games_Summary.info()"
   ]
  },
  {
   "cell_type": "code",
<<<<<<< HEAD
   "execution_count": 19,
=======
   "execution_count": 7,
>>>>>>> 106b2da8c4d00899144a15316801f8bcc69373f8
   "metadata": {},
   "outputs": [
    {
     "name": "stdout",
     "output_type": "stream",
     "text": [
      "<class 'pandas.core.frame.DataFrame'>\n",
      "RangeIndex: 1807 entries, 0 to 1806\n",
      "Data columns (total 9 columns):\n",
      " #   Column       Non-Null Count  Dtype \n",
      "---  ------       --------------  ----- \n",
      " 0   edition      1807 non-null   object\n",
      " 1   edition_id   1807 non-null   int64 \n",
      " 2   year         1807 non-null   int64 \n",
      " 3   country      1807 non-null   object\n",
      " 4   country_noc  1807 non-null   object\n",
      " 5   gold         1807 non-null   int64 \n",
      " 6   silver       1807 non-null   int64 \n",
      " 7   bronze       1807 non-null   int64 \n",
      " 8   total        1807 non-null   int64 \n",
      "dtypes: int64(6), object(3)\n",
      "memory usage: 127.2+ KB\n"
     ]
    }
   ],
   "source": [
    "df_Medal_Tally_History.info()"
   ]
  },
  {
   "cell_type": "code",
<<<<<<< HEAD
   "execution_count": 20,
=======
   "execution_count": 8,
>>>>>>> 106b2da8c4d00899144a15316801f8bcc69373f8
   "metadata": {},
   "outputs": [
    {
     "data": {
      "text/html": [
       "<div>\n",
       "<style scoped>\n",
       "    .dataframe tbody tr th:only-of-type {\n",
       "        vertical-align: middle;\n",
       "    }\n",
       "\n",
       "    .dataframe tbody tr th {\n",
       "        vertical-align: top;\n",
       "    }\n",
       "\n",
       "    .dataframe thead th {\n",
       "        text-align: right;\n",
       "    }\n",
       "</style>\n",
       "<table border=\"1\" class=\"dataframe\">\n",
       "  <thead>\n",
       "    <tr style=\"text-align: right;\">\n",
       "      <th></th>\n",
       "      <th>edition</th>\n",
       "      <th>edition_id</th>\n",
       "      <th>country_noc</th>\n",
       "      <th>sport</th>\n",
       "      <th>event</th>\n",
       "      <th>result_id</th>\n",
       "      <th>athlete</th>\n",
       "      <th>athlete_id</th>\n",
       "      <th>pos</th>\n",
       "      <th>medal</th>\n",
       "      <th>isTeamSport</th>\n",
       "      <th>Weighted Medals</th>\n",
       "      <th>Gender</th>\n",
       "    </tr>\n",
       "  </thead>\n",
       "  <tbody>\n",
       "    <tr>\n",
       "      <th>0</th>\n",
       "      <td>1908 Summer Olympics</td>\n",
       "      <td>5</td>\n",
       "      <td>ANZ</td>\n",
       "      <td>Athletics</td>\n",
       "      <td>100 metres, Men</td>\n",
       "      <td>56265</td>\n",
       "      <td>Ernest Hutcheon</td>\n",
       "      <td>64710</td>\n",
       "      <td>DNS</td>\n",
       "      <td>NaN</td>\n",
       "      <td>False</td>\n",
       "      <td>NaN</td>\n",
       "      <td>Men</td>\n",
       "    </tr>\n",
       "    <tr>\n",
       "      <th>1</th>\n",
       "      <td>1908 Summer Olympics</td>\n",
       "      <td>5</td>\n",
       "      <td>ANZ</td>\n",
       "      <td>Athletics</td>\n",
       "      <td>400 metres, Men</td>\n",
       "      <td>56313</td>\n",
       "      <td>Henry Murray</td>\n",
       "      <td>64756</td>\n",
       "      <td>DNS</td>\n",
       "      <td>NaN</td>\n",
       "      <td>False</td>\n",
       "      <td>NaN</td>\n",
       "      <td>Men</td>\n",
       "    </tr>\n",
       "    <tr>\n",
       "      <th>2</th>\n",
       "      <td>1908 Summer Olympics</td>\n",
       "      <td>5</td>\n",
       "      <td>ANZ</td>\n",
       "      <td>Athletics</td>\n",
       "      <td>800 metres, Men</td>\n",
       "      <td>56338</td>\n",
       "      <td>Harvey Sutton</td>\n",
       "      <td>64808</td>\n",
       "      <td>3 h8 r1/2</td>\n",
       "      <td>NaN</td>\n",
       "      <td>False</td>\n",
       "      <td>NaN</td>\n",
       "      <td>Men</td>\n",
       "    </tr>\n",
       "    <tr>\n",
       "      <th>3</th>\n",
       "      <td>1908 Summer Olympics</td>\n",
       "      <td>5</td>\n",
       "      <td>ANZ</td>\n",
       "      <td>Athletics</td>\n",
       "      <td>800 metres, Men</td>\n",
       "      <td>56338</td>\n",
       "      <td>Guy Haskins</td>\n",
       "      <td>922519</td>\n",
       "      <td>DNS</td>\n",
       "      <td>NaN</td>\n",
       "      <td>False</td>\n",
       "      <td>NaN</td>\n",
       "      <td>Men</td>\n",
       "    </tr>\n",
       "    <tr>\n",
       "      <th>4</th>\n",
       "      <td>1908 Summer Olympics</td>\n",
       "      <td>5</td>\n",
       "      <td>ANZ</td>\n",
       "      <td>Athletics</td>\n",
       "      <td>800 metres, Men</td>\n",
       "      <td>56338</td>\n",
       "      <td>Joseph Lynch</td>\n",
       "      <td>64735</td>\n",
       "      <td>DNS</td>\n",
       "      <td>NaN</td>\n",
       "      <td>False</td>\n",
       "      <td>NaN</td>\n",
       "      <td>Men</td>\n",
       "    </tr>\n",
       "  </tbody>\n",
       "</table>\n",
       "</div>"
      ],
      "text/plain": [
       "                edition  edition_id country_noc      sport            event  \\\n",
       "0  1908 Summer Olympics           5         ANZ  Athletics  100 metres, Men   \n",
       "1  1908 Summer Olympics           5         ANZ  Athletics  400 metres, Men   \n",
       "2  1908 Summer Olympics           5         ANZ  Athletics  800 metres, Men   \n",
       "3  1908 Summer Olympics           5         ANZ  Athletics  800 metres, Men   \n",
       "4  1908 Summer Olympics           5         ANZ  Athletics  800 metres, Men   \n",
       "\n",
       "   result_id          athlete  athlete_id        pos medal  isTeamSport  \\\n",
       "0      56265  Ernest Hutcheon       64710        DNS   NaN        False   \n",
       "1      56313     Henry Murray       64756        DNS   NaN        False   \n",
       "2      56338    Harvey Sutton       64808  3 h8 r1/2   NaN        False   \n",
       "3      56338      Guy Haskins      922519        DNS   NaN        False   \n",
       "4      56338     Joseph Lynch       64735        DNS   NaN        False   \n",
       "\n",
       "   Weighted Medals Gender  \n",
       "0              NaN    Men  \n",
       "1              NaN    Men  \n",
       "2              NaN    Men  \n",
       "3              NaN    Men  \n",
       "4              NaN    Men  "
      ]
     },
<<<<<<< HEAD
     "execution_count": 20,
=======
     "execution_count": 8,
>>>>>>> 106b2da8c4d00899144a15316801f8bcc69373f8
     "metadata": {},
     "output_type": "execute_result"
    }
   ],
   "source": [
    "# Want to look at country success by event type\n",
    "df_Athlete_Event_Details[\"Weighted Medals\"] = df_Athlete_Event_Details[\"medal\"].map({'Gold': 3, 'Silver': 2, 'Bronze': 1, \"NaN\": 0})\n",
    "df_Athlete_Event_Details[\"Gender\"] = df_Athlete_Event_Details[\"event\"].str.extract(r'(Men|Women)', expand=False)\n",
    "df_Athlete_Event_Details.head()"
   ]
  },
  {
   "cell_type": "code",
   "execution_count": null,
   "metadata": {},
   "outputs": [],
   "source": []
  },
  {
   "cell_type": "code",
   "execution_count": null,
   "metadata": {},
   "outputs": [],
   "source": []
  }
 ],
 "metadata": {
  "kernelspec": {
   "display_name": "Python 3 (ipykernel)",
   "language": "python",
   "name": "python3"
  },
  "language_info": {
   "codemirror_mode": {
    "name": "ipython",
    "version": 3
   },
   "file_extension": ".py",
   "mimetype": "text/x-python",
   "name": "python",
   "nbconvert_exporter": "python",
   "pygments_lexer": "ipython3",
   "version": "3.10.15"
  }
 },
 "nbformat": 4,
 "nbformat_minor": 4
}
