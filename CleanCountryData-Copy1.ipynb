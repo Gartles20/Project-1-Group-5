{
 "cells": [
  {
   "cell_type": "code",
   "execution_count": 48,
   "id": "90cbd0ce-8793-46e3-ba70-1e45bf070a92",
   "metadata": {},
   "outputs": [],
   "source": [
    "# Import Dependencies\n",
    "import matplotlib.pyplot as plt\n",
    "import pandas as pd\n",
    "import numpy as np"
   ]
  },
  {
   "cell_type": "code",
   "execution_count": 49,
   "id": "9597ec6c-8ba2-493a-9987-b1ee9b3363fa",
   "metadata": {},
   "outputs": [
    {
     "name": "stdout",
     "output_type": "stream",
     "text": [
      "<class 'pandas.core.frame.DataFrame'>\n",
      "RangeIndex: 316834 entries, 0 to 316833\n",
      "Data columns (total 11 columns):\n",
      " #   Column       Non-Null Count   Dtype \n",
      "---  ------       --------------   ----- \n",
      " 0   edition      316834 non-null  object\n",
      " 1   edition_id   316834 non-null  int64 \n",
      " 2   country_noc  316834 non-null  object\n",
      " 3   sport        316834 non-null  object\n",
      " 4   event        316834 non-null  object\n",
      " 5   result_id    316834 non-null  int64 \n",
      " 6   athlete      316834 non-null  object\n",
      " 7   athlete_id   316834 non-null  int64 \n",
      " 8   pos          316834 non-null  object\n",
      " 9   medal        44687 non-null   object\n",
      " 10  isTeamSport  316834 non-null  bool  \n",
      "dtypes: bool(1), int64(3), object(7)\n",
      "memory usage: 24.5+ MB\n"
     ]
    }
   ],
   "source": [
    "# Import our data into pandas from CSV\n",
    "filepath1 = \"Datasets/Olympic_Athlete_Event_Details.csv\"\n",
    "filepath2 = \"Datasets/Olympic_Country_Profiles.csv\"\n",
    "filepath3 = \"Datasets/Olympic_Event_Results.csv\"\n",
    "filepath4 = \"Datasets/Olympic_Games_Summary.csv\"\n",
    "filepath5 = \"Datasets/Olympic_Medal_Tally_History.csv\"\n",
    "\n",
    "df_Athlete_Event_Details = pd.read_csv(filepath1)\n",
    "df_Country_Profiles = pd.read_csv(filepath2)\n",
    "df_Event_Results = pd.read_csv(filepath3)\n",
    "df_Games_Summary = pd.read_csv(filepath4)\n",
    "df_Medal_Tally_History = pd.read_csv(filepath5)\n",
    "\n",
    "\n",
    "\n",
    "df_Athlete_Event_Details.info()"
   ]
  },
  {
   "cell_type": "code",
   "execution_count": 50,
   "id": "7f52ef23-13d9-4ac5-bbe1-6965e09c989d",
   "metadata": {},
   "outputs": [
    {
     "name": "stdout",
     "output_type": "stream",
     "text": [
      "<class 'pandas.core.frame.DataFrame'>\n",
      "RangeIndex: 7394 entries, 0 to 7393\n",
      "Data columns (total 12 columns):\n",
      " #   Column               Non-Null Count  Dtype \n",
      "---  ------               --------------  ----- \n",
      " 0   result_id            7394 non-null   int64 \n",
      " 1   event_title          7394 non-null   object\n",
      " 2   edition              7394 non-null   object\n",
      " 3   edition_id           7394 non-null   int64 \n",
      " 4   sport                7394 non-null   object\n",
      " 5   sport_url            7394 non-null   object\n",
      " 6   result_date          7394 non-null   object\n",
      " 7   result_location      7393 non-null   object\n",
      " 8   result_participants  7394 non-null   object\n",
      " 9   result_format        7394 non-null   object\n",
      " 10  result_detail        7394 non-null   object\n",
      " 11  result_description   7394 non-null   object\n",
      "dtypes: int64(2), object(10)\n",
      "memory usage: 693.3+ KB\n"
     ]
    }
   ],
   "source": [
    "df_Event_Results.info()"
   ]
  },
  {
   "cell_type": "code",
   "execution_count": 51,
   "id": "11b6c3b5-4cf7-4f6c-905d-7e1cece85fbd",
   "metadata": {},
   "outputs": [
    {
     "name": "stdout",
     "output_type": "stream",
     "text": [
      "<class 'pandas.core.frame.DataFrame'>\n",
      "RangeIndex: 1807 entries, 0 to 1806\n",
      "Data columns (total 9 columns):\n",
      " #   Column       Non-Null Count  Dtype \n",
      "---  ------       --------------  ----- \n",
      " 0   edition      1807 non-null   object\n",
      " 1   edition_id   1807 non-null   int64 \n",
      " 2   year         1807 non-null   int64 \n",
      " 3   country      1807 non-null   object\n",
      " 4   country_noc  1807 non-null   object\n",
      " 5   gold         1807 non-null   int64 \n",
      " 6   silver       1807 non-null   int64 \n",
      " 7   bronze       1807 non-null   int64 \n",
      " 8   total        1807 non-null   int64 \n",
      "dtypes: int64(6), object(3)\n",
      "memory usage: 127.2+ KB\n"
     ]
    }
   ],
   "source": [
    "df_Medal_Tally_History.info()"
   ]
  },
  {
   "cell_type": "code",
   "execution_count": 52,
   "id": "33fabc2d-0a9c-46e9-b5b4-6c60aed53a8e",
   "metadata": {},
   "outputs": [],
   "source": [
    "df_Country_Profiles['country'] = df_Country_Profiles['country'].replace({'Soviet Union': 'Russian Federation'})\n",
    "df_Country_Profiles['country'] = df_Country_Profiles['country'].replace({'Russian Olympic Committee': 'Russian Federation'})\n",
    "df_Country_Profiles['country'] = df_Country_Profiles['country'].replace({'ROC': 'Russian Federation'})\n",
    "df_Country_Profiles['country'] = df_Country_Profiles['country'].replace({'Unified Team': 'Russian Federation'})\n",
    "df_Country_Profiles['country'] = df_Country_Profiles['country'].replace({'East Germany': 'Germany'})\n",
    "df_Country_Profiles['country'] = df_Country_Profiles['country'].replace({'West Germany': 'Germany'})\n",
    "df_Country_Profiles['country'] = df_Country_Profiles['country'].replace({'Saar': 'Germany'})\n",
    "df_Country_Profiles['country'] = df_Country_Profiles['country'].replace({'Bohemia': 'Czechia'})\n",
    "df_Country_Profiles['country'] = df_Country_Profiles['country'].replace({'Australasia': 'Australia'})\n",
    "df_Country_Profiles['country'] = df_Country_Profiles['country'].replace({'Rhodesia': 'Zimbabwe'})\n",
    "df_Country_Profiles['country'] = df_Country_Profiles['country'].replace({'South Yemen': 'Yemen'})\n",
    "df_Country_Profiles['country'] = df_Country_Profiles['country'].replace({'North Yemen': 'Yemen'})\n",
    "df_Country_Profiles['country'] = df_Country_Profiles['country'].replace({'Serbia and Montenegro': 'Serbia'})\n",
    "df_Country_Profiles['country'] = df_Country_Profiles['country'].replace({\"Democratic People's Republic of Korea\": \"Republic of Korea\"})\n",
    "df_Country_Profiles['country'] = df_Country_Profiles['country'].replace({\"Korea Town\": \"Republic of Korea\"})\n",
    "df_Country_Profiles['country'] = df_Country_Profiles['country'].replace({'South Vietnam': 'Vietnam'})"
   ]
  },
  {
   "cell_type": "code",
   "execution_count": 53,
   "id": "daa5607b-c979-4655-a700-ace43ae16f63",
   "metadata": {},
   "outputs": [],
   "source": [
    "df_Country_Profiles.to_csv(\"Datasets/Country_Profiles_Clean.csv\", index = False)"
   ]
  },
  {
   "cell_type": "code",
   "execution_count": 54,
   "id": "ac8c9883-8063-40b1-b197-dcc1d9fed9c6",
   "metadata": {},
   "outputs": [],
   "source": [
    "#USE ATHLETE EVENT DETAIL TO COMBINE ATHLETE WITH COUNTRY TO FIND OUT HOW MANY COMPETED FOR THAT COUNTRY"
   ]
  },
  {
   "cell_type": "code",
   "execution_count": 55,
   "id": "6cce1fb9-57e4-4ec6-ba42-1e9b6cff2bc6",
   "metadata": {},
   "outputs": [
    {
     "data": {
      "text/html": [
       "<div>\n",
       "<style scoped>\n",
       "    .dataframe tbody tr th:only-of-type {\n",
       "        vertical-align: middle;\n",
       "    }\n",
       "\n",
       "    .dataframe tbody tr th {\n",
       "        vertical-align: top;\n",
       "    }\n",
       "\n",
       "    .dataframe thead th {\n",
       "        text-align: right;\n",
       "    }\n",
       "</style>\n",
       "<table border=\"1\" class=\"dataframe\">\n",
       "  <thead>\n",
       "    <tr style=\"text-align: right;\">\n",
       "      <th></th>\n",
       "      <th>edition</th>\n",
       "      <th>edition_id</th>\n",
       "      <th>country_noc</th>\n",
       "      <th>sport</th>\n",
       "      <th>event</th>\n",
       "      <th>result_id</th>\n",
       "      <th>athlete</th>\n",
       "      <th>athlete_id</th>\n",
       "      <th>pos</th>\n",
       "      <th>medal</th>\n",
       "      <th>isTeamSport</th>\n",
       "    </tr>\n",
       "  </thead>\n",
       "  <tbody>\n",
       "    <tr>\n",
       "      <th>0</th>\n",
       "      <td>1908 Summer Olympics</td>\n",
       "      <td>5</td>\n",
       "      <td>ANZ</td>\n",
       "      <td>Athletics</td>\n",
       "      <td>100 metres, Men</td>\n",
       "      <td>56265</td>\n",
       "      <td>Ernest Hutcheon</td>\n",
       "      <td>64710</td>\n",
       "      <td>DNS</td>\n",
       "      <td>NaN</td>\n",
       "      <td>False</td>\n",
       "    </tr>\n",
       "    <tr>\n",
       "      <th>1</th>\n",
       "      <td>1908 Summer Olympics</td>\n",
       "      <td>5</td>\n",
       "      <td>ANZ</td>\n",
       "      <td>Athletics</td>\n",
       "      <td>400 metres, Men</td>\n",
       "      <td>56313</td>\n",
       "      <td>Henry Murray</td>\n",
       "      <td>64756</td>\n",
       "      <td>DNS</td>\n",
       "      <td>NaN</td>\n",
       "      <td>False</td>\n",
       "    </tr>\n",
       "    <tr>\n",
       "      <th>2</th>\n",
       "      <td>1908 Summer Olympics</td>\n",
       "      <td>5</td>\n",
       "      <td>ANZ</td>\n",
       "      <td>Athletics</td>\n",
       "      <td>800 metres, Men</td>\n",
       "      <td>56338</td>\n",
       "      <td>Harvey Sutton</td>\n",
       "      <td>64808</td>\n",
       "      <td>3 h8 r1/2</td>\n",
       "      <td>NaN</td>\n",
       "      <td>False</td>\n",
       "    </tr>\n",
       "    <tr>\n",
       "      <th>3</th>\n",
       "      <td>1908 Summer Olympics</td>\n",
       "      <td>5</td>\n",
       "      <td>ANZ</td>\n",
       "      <td>Athletics</td>\n",
       "      <td>800 metres, Men</td>\n",
       "      <td>56338</td>\n",
       "      <td>Guy Haskins</td>\n",
       "      <td>922519</td>\n",
       "      <td>DNS</td>\n",
       "      <td>NaN</td>\n",
       "      <td>False</td>\n",
       "    </tr>\n",
       "    <tr>\n",
       "      <th>4</th>\n",
       "      <td>1908 Summer Olympics</td>\n",
       "      <td>5</td>\n",
       "      <td>ANZ</td>\n",
       "      <td>Athletics</td>\n",
       "      <td>800 metres, Men</td>\n",
       "      <td>56338</td>\n",
       "      <td>Joseph Lynch</td>\n",
       "      <td>64735</td>\n",
       "      <td>DNS</td>\n",
       "      <td>NaN</td>\n",
       "      <td>False</td>\n",
       "    </tr>\n",
       "  </tbody>\n",
       "</table>\n",
       "</div>"
      ],
      "text/plain": [
       "                edition  edition_id country_noc      sport            event  \\\n",
       "0  1908 Summer Olympics           5         ANZ  Athletics  100 metres, Men   \n",
       "1  1908 Summer Olympics           5         ANZ  Athletics  400 metres, Men   \n",
       "2  1908 Summer Olympics           5         ANZ  Athletics  800 metres, Men   \n",
       "3  1908 Summer Olympics           5         ANZ  Athletics  800 metres, Men   \n",
       "4  1908 Summer Olympics           5         ANZ  Athletics  800 metres, Men   \n",
       "\n",
       "   result_id          athlete  athlete_id        pos medal  isTeamSport  \n",
       "0      56265  Ernest Hutcheon       64710        DNS   NaN        False  \n",
       "1      56313     Henry Murray       64756        DNS   NaN        False  \n",
       "2      56338    Harvey Sutton       64808  3 h8 r1/2   NaN        False  \n",
       "3      56338      Guy Haskins      922519        DNS   NaN        False  \n",
       "4      56338     Joseph Lynch       64735        DNS   NaN        False  "
      ]
     },
     "execution_count": 55,
     "metadata": {},
     "output_type": "execute_result"
    }
   ],
   "source": [
    "df_Athlete_Event_Details.head()"
   ]
  },
  {
   "cell_type": "code",
   "execution_count": 56,
   "id": "c1a32210-556f-41a8-805f-63d82fa039a6",
   "metadata": {},
   "outputs": [
    {
     "name": "stdout",
     "output_type": "stream",
     "text": [
      "                     edition  edition_id country_noc      sport  \\\n",
      "0       1908 Summer Olympics           5         ANZ  Athletics   \n",
      "1       1908 Summer Olympics           5         ANZ  Athletics   \n",
      "2       1908 Summer Olympics           5         ANZ  Athletics   \n",
      "3       1908 Summer Olympics           5         ANZ  Athletics   \n",
      "4       1908 Summer Olympics           5         ANZ  Athletics   \n",
      "...                      ...         ...         ...        ...   \n",
      "316829  2022 Winter Olympics          62         NED  Bobsleigh   \n",
      "316830  2022 Winter Olympics          62         SVK  Bobsleigh   \n",
      "316831  2022 Winter Olympics          62         KOR  Bobsleigh   \n",
      "316832  2022 Winter Olympics          62         JAM  Bobsleigh   \n",
      "316833  2022 Winter Olympics          62         UKR  Bobsleigh   \n",
      "\n",
      "                  event  result_id                     athlete  athlete_id  \\\n",
      "0       100 metres, Men      56265             Ernest Hutcheon       64710   \n",
      "1       400 metres, Men      56313                Henry Murray       64756   \n",
      "2       800 metres, Men      56338               Harvey Sutton       64808   \n",
      "3       800 metres, Men      56338                 Guy Haskins      922519   \n",
      "4       800 metres, Men      56338                Joseph Lynch       64735   \n",
      "...                 ...        ...                         ...         ...   \n",
      "316829   Monobob, Women   19019671              Karlien Sleper      148662   \n",
      "316830   Monobob, Women   19019671          Viktória Čerňanská      138683   \n",
      "316831   Monobob, Women   19019671                  Kim Yu-Ran      137542   \n",
      "316832   Monobob, Women   19019671  Jazmine Fenlator-Victorian      128682   \n",
      "316833   Monobob, Women   19019671                Lidiya Hunko      149047   \n",
      "\n",
      "              pos medal  isTeamSport  AthletesPerCountry  \n",
      "0             DNS   NaN        False                 131  \n",
      "1             DNS   NaN        False                 131  \n",
      "2       3 h8 r1/2   NaN        False                 131  \n",
      "3             DNS   NaN        False                 131  \n",
      "4             DNS   NaN        False                 131  \n",
      "...           ...   ...          ...                 ...  \n",
      "316829         16   NaN        False                6854  \n",
      "316830         17   NaN        False                1330  \n",
      "316831         18   NaN        False                5357  \n",
      "316832         19   NaN        False                1043  \n",
      "316833         20   NaN        False                2995  \n",
      "\n",
      "[316834 rows x 12 columns]\n"
     ]
    }
   ],
   "source": [
    "df_Athlete_Event_Details[\"AthletesPerCountry\"] = df_Athlete_Event_Details.groupby(\"country_noc\")[\"athlete\"].transform(\"count\")\n",
    "print(df_Athlete_Event_Details)"
   ]
  },
  {
   "cell_type": "code",
   "execution_count": 58,
   "id": "d0f5c764-5ef4-4871-9ebf-278730e71d6b",
   "metadata": {},
   "outputs": [
    {
     "data": {
      "text/html": [
       "<div>\n",
       "<style scoped>\n",
       "    .dataframe tbody tr th:only-of-type {\n",
       "        vertical-align: middle;\n",
       "    }\n",
       "\n",
       "    .dataframe tbody tr th {\n",
       "        vertical-align: top;\n",
       "    }\n",
       "\n",
       "    .dataframe thead th {\n",
       "        text-align: right;\n",
       "    }\n",
       "</style>\n",
       "<table border=\"1\" class=\"dataframe\">\n",
       "  <thead>\n",
       "    <tr style=\"text-align: right;\">\n",
       "      <th></th>\n",
       "      <th>edition</th>\n",
       "      <th>edition_id</th>\n",
       "      <th>country_noc</th>\n",
       "      <th>sport</th>\n",
       "      <th>event</th>\n",
       "      <th>result_id</th>\n",
       "      <th>athlete</th>\n",
       "      <th>athlete_id</th>\n",
       "      <th>pos</th>\n",
       "      <th>medal</th>\n",
       "      <th>isTeamSport</th>\n",
       "      <th>AthletesPerCountry</th>\n",
       "    </tr>\n",
       "  </thead>\n",
       "  <tbody>\n",
       "    <tr>\n",
       "      <th>0</th>\n",
       "      <td>1908 Summer Olympics</td>\n",
       "      <td>5</td>\n",
       "      <td>ANZ</td>\n",
       "      <td>Athletics</td>\n",
       "      <td>100 metres, Men</td>\n",
       "      <td>56265</td>\n",
       "      <td>Ernest Hutcheon</td>\n",
       "      <td>64710</td>\n",
       "      <td>DNS</td>\n",
       "      <td>NaN</td>\n",
       "      <td>False</td>\n",
       "      <td>131</td>\n",
       "    </tr>\n",
       "    <tr>\n",
       "      <th>1</th>\n",
       "      <td>1908 Summer Olympics</td>\n",
       "      <td>5</td>\n",
       "      <td>ANZ</td>\n",
       "      <td>Athletics</td>\n",
       "      <td>400 metres, Men</td>\n",
       "      <td>56313</td>\n",
       "      <td>Henry Murray</td>\n",
       "      <td>64756</td>\n",
       "      <td>DNS</td>\n",
       "      <td>NaN</td>\n",
       "      <td>False</td>\n",
       "      <td>131</td>\n",
       "    </tr>\n",
       "    <tr>\n",
       "      <th>2</th>\n",
       "      <td>1908 Summer Olympics</td>\n",
       "      <td>5</td>\n",
       "      <td>ANZ</td>\n",
       "      <td>Athletics</td>\n",
       "      <td>800 metres, Men</td>\n",
       "      <td>56338</td>\n",
       "      <td>Harvey Sutton</td>\n",
       "      <td>64808</td>\n",
       "      <td>3 h8 r1/2</td>\n",
       "      <td>NaN</td>\n",
       "      <td>False</td>\n",
       "      <td>131</td>\n",
       "    </tr>\n",
       "    <tr>\n",
       "      <th>3</th>\n",
       "      <td>1908 Summer Olympics</td>\n",
       "      <td>5</td>\n",
       "      <td>ANZ</td>\n",
       "      <td>Athletics</td>\n",
       "      <td>800 metres, Men</td>\n",
       "      <td>56338</td>\n",
       "      <td>Guy Haskins</td>\n",
       "      <td>922519</td>\n",
       "      <td>DNS</td>\n",
       "      <td>NaN</td>\n",
       "      <td>False</td>\n",
       "      <td>131</td>\n",
       "    </tr>\n",
       "    <tr>\n",
       "      <th>4</th>\n",
       "      <td>1908 Summer Olympics</td>\n",
       "      <td>5</td>\n",
       "      <td>ANZ</td>\n",
       "      <td>Athletics</td>\n",
       "      <td>800 metres, Men</td>\n",
       "      <td>56338</td>\n",
       "      <td>Joseph Lynch</td>\n",
       "      <td>64735</td>\n",
       "      <td>DNS</td>\n",
       "      <td>NaN</td>\n",
       "      <td>False</td>\n",
       "      <td>131</td>\n",
       "    </tr>\n",
       "  </tbody>\n",
       "</table>\n",
       "</div>"
      ],
      "text/plain": [
       "                edition  edition_id country_noc      sport            event  \\\n",
       "0  1908 Summer Olympics           5         ANZ  Athletics  100 metres, Men   \n",
       "1  1908 Summer Olympics           5         ANZ  Athletics  400 metres, Men   \n",
       "2  1908 Summer Olympics           5         ANZ  Athletics  800 metres, Men   \n",
       "3  1908 Summer Olympics           5         ANZ  Athletics  800 metres, Men   \n",
       "4  1908 Summer Olympics           5         ANZ  Athletics  800 metres, Men   \n",
       "\n",
       "   result_id          athlete  athlete_id        pos medal  isTeamSport  \\\n",
       "0      56265  Ernest Hutcheon       64710        DNS   NaN        False   \n",
       "1      56313     Henry Murray       64756        DNS   NaN        False   \n",
       "2      56338    Harvey Sutton       64808  3 h8 r1/2   NaN        False   \n",
       "3      56338      Guy Haskins      922519        DNS   NaN        False   \n",
       "4      56338     Joseph Lynch       64735        DNS   NaN        False   \n",
       "\n",
       "   AthletesPerCountry  \n",
       "0                 131  \n",
       "1                 131  \n",
       "2                 131  \n",
       "3                 131  \n",
       "4                 131  "
      ]
     },
     "execution_count": 58,
     "metadata": {},
     "output_type": "execute_result"
    }
   ],
   "source": [
    "df_Athlete_Event_Details.head()"
   ]
  },
  {
   "cell_type": "code",
   "execution_count": 60,
   "id": "bc5000e7-2ee1-407c-b342-6a3a488003a8",
   "metadata": {},
   "outputs": [
    {
     "name": "stdout",
     "output_type": "stream",
     "text": [
      "    country_noc  Total_Athletes\n",
      "0           AFG           22201\n",
      "1           AHO            7921\n",
      "2           ALB            7744\n",
      "3           ALG          396900\n",
      "4           AND           39601\n",
      "..          ...             ...\n",
      "226         YEM            1600\n",
      "227         YMD              25\n",
      "228         YUG         7595536\n",
      "229         ZAM           49284\n",
      "230         ZIM          103684\n",
      "\n",
      "[231 rows x 2 columns]\n"
     ]
    }
   ],
   "source": [
    "# Group by 'Country' and sum the 'AthletesPerCountry'\n",
    "athletes_per_country = df_Athlete_Event_Details.groupby(\"country_noc\")[\"AthletesPerCountry\"].sum().reset_index()\n",
    "\n",
    "# Rename the column for clarity\n",
    "athletes_per_country.rename(columns={\"AthletesPerCountry\": \"Total_Athletes\"}, inplace=True)\n",
    "\n",
    "# Display the result\n",
    "print(athletes_per_country)"
   ]
  },
  {
   "cell_type": "code",
   "execution_count": 61,
   "id": "3d41230b-3661-4a3e-9d6d-74cb53ae460d",
   "metadata": {},
   "outputs": [
    {
     "name": "stdout",
     "output_type": "stream",
     "text": [
      "    country_noc  Total_Athletes\n",
      "217         USA       561690000\n",
      "71          FRA       263737600\n",
      "76          GBR       191296561\n",
      "102         ITA       154703844\n",
      "36          CAN       137663289\n",
      "..          ...             ...\n",
      "209         TUV              81\n",
      "214         UNK              36\n",
      "188         SSD              25\n",
      "227         YMD              25\n",
      "145         NBO               9\n",
      "\n",
      "[231 rows x 2 columns]\n"
     ]
    }
   ],
   "source": [
    "athletes_per_country = athletes_per_country.sort_values(by=\"Total_Athletes\", ascending=False)\n",
    "print(athletes_per_country)"
   ]
  },
  {
   "cell_type": "code",
   "execution_count": 62,
   "id": "2515c44e-9139-425c-8b3a-b148001b312e",
   "metadata": {},
   "outputs": [
    {
     "name": "stdout",
     "output_type": "stream",
     "text": [
      "    country_noc  Total_Athletes\n",
      "145         NBO               9\n",
      "227         YMD              25\n",
      "188         SSD              25\n",
      "214         UNK              36\n",
      "209         TUV              81\n",
      "..          ...             ...\n",
      "36          CAN       137663289\n",
      "102         ITA       154703844\n",
      "76          GBR       191296561\n",
      "71          FRA       263737600\n",
      "217         USA       561690000\n",
      "\n",
      "[231 rows x 2 columns]\n"
     ]
    }
   ],
   "source": [
    "athletes_per_country = athletes_per_country.sort_values(by=\"Total_Athletes\", ascending=True)\n",
    "print(athletes_per_country)"
   ]
  },
  {
   "cell_type": "code",
   "execution_count": 63,
   "id": "8e49cdd4-f1c9-442f-b1c5-448edc1000b2",
   "metadata": {},
   "outputs": [],
   "source": [
    "filtered_countries = athletes_per_country[athletes_per_country[\"Total_Athletes\"] >= 100]"
   ]
  },
  {
   "cell_type": "code",
   "execution_count": null,
   "id": "2a4a95de-e729-40e1-a329-32eafda8ecb3",
   "metadata": {},
   "outputs": [],
   "source": []
  },
  {
   "cell_type": "code",
   "execution_count": null,
   "id": "6c9dfc1f-4161-4267-971d-02f2b5d743fc",
   "metadata": {},
   "outputs": [],
   "source": []
  },
  {
   "cell_type": "code",
   "execution_count": null,
   "id": "4e613c5f-09de-4f3f-999c-4aa117a8a123",
   "metadata": {},
   "outputs": [],
   "source": []
  },
  {
   "cell_type": "code",
   "execution_count": null,
   "id": "139a9ea1-b1de-4e5f-8153-ae75b9dead80",
   "metadata": {},
   "outputs": [],
   "source": [
    "df_Event_Results_over_100 = df_Event_Results[df_Event_Results['result_participants'] > 100]\n",
    "print(df_Events_Results_100)"
   ]
  }
 ],
 "metadata": {
  "kernelspec": {
   "display_name": "Python 3 (ipykernel)",
   "language": "python",
   "name": "python3"
  },
  "language_info": {
   "codemirror_mode": {
    "name": "ipython",
    "version": 3
   },
   "file_extension": ".py",
   "mimetype": "text/x-python",
   "name": "python",
   "nbconvert_exporter": "python",
   "pygments_lexer": "ipython3",
   "version": "3.10.15"
  }
 },
 "nbformat": 4,
 "nbformat_minor": 5
}
