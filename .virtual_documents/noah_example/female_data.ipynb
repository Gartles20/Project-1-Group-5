import pandas as pd
import numpy as np
import scipy.stats as st
import matplotlib.pyplot as plt
import seaborn as sns


COUNTRY_PATH = "../noah_example/Country_Profiles_Clean.csv"
#MEDAL_PATH = "../noah_example/Datasets/Olympic_Medal_Tally_History.csv"
EVENT_PATH = "../noah_example/Datasets/Olympic_Athlete_Event_Details.csv"
CURRENT_YEAR = 2024
OLDEST_YEAR_OF_INTEREST = CURRENT_YEAR - 20
MEDAL_TYPES = ('Gold', 'Silver', 'Bronze')


# read it in:
country_df= pd.read_csv(COUNTRY_PATH).drop(index=234)
print(country_df.shape)
country_df.head()


dup_both_mask_s = country_df.duplicated(keep=False)
print(dup_both_mask_s.sum())
dup_noc_mask_s = country_df.duplicated(subset='noc', keep=False)
print(dup_noc_mask_s.sum())
dup_country_mask_s = country_df.duplicated(subset='country', keep=False)
country_df[dup_country_mask_s].sort_values("country")



dup_both_mask_s.sum()


dup_country_mask_s.sum() 





# medal_df= pd.read_csv(MEDAL_PATH).rename(columns = {"country_noc" : "noc"})
# print(medal_df.shape)
# medal_df.head()


#medal_df.info()


#medal_df.describe()


# #merge the 2 datasets: country and game sum
# country_medal_df = pd.merge(country_df, medal_df, on="country")
# print(country_medal_df.shape)
# country_medal_df.head()


# noc_mismatch_mask_s = country_medal_df.noc_x != country_medal_df.noc_y
# country_medal_df[noc_mismatch_mask_s]


#country_medal_df.loc[noc_mismatch_mask_s, "country"].unique()


#Country_medal_df = Country_medal_df.rename(columns = {"noc_x" : "noc"})
#Country_medal_df.head()


event_df= pd.read_csv(EVENT_PATH)\
.dropna()\
.rename(columns = {"country_noc" : "noc"})

event_df[['year', 'season']] = event_df['edition'].str.split(' ', n=1, expand=True)
event_df['year'] = event_df['year'].astype(int)

print(event_df.info())
print(event_df.shape)
event_df.head()


#merge country medal with olympic athlete event to extract gender
country_event_df = pd.merge(event_df, country_df, on="noc", how="left")
country_event_df.info()
print(country_event_df.shape)
country_event_df.tail()





#I want to filter for up to 20years:
year_mask_s = country_event_df["year"] >= OLDEST_YEAR_OF_INTEREST 
country_event_recent_df = country_event_df[year_mask_s]
print(country_event_recent_df.shape)
country_event_recent_df.head()


#country_event_recent_df.sort_values("year")


#look for gold wins: female, last 10 years and top 10 countries
#olympic athlete event to seperate columns
# Split the 'Event' column into 'Event' and 'Gender' columns
country_event_recent_df[['Event', 'Gender']] = country_event_recent_df['event'].str.extract(r'(.*), (\w+)')
print(country_event_recent_df.info())
print(country_event_recent_df.shape)
country_event_recent_df.head(10)


country_event_recent_df['Gender'].value_counts()


female_mask_s = country_event_recent_df['Gender'] == 'Women'
female_country_event_recent_df = country_event_recent_df[female_mask_s]
print(female_country_event_recent_df.shape)
female_country_event_recent_df.head()


# Filter for Summer and Winter Olympics
female_summer_olympics_df = female_country_event_recent_df[female_country_event_recent_df['edition'].str.contains('Summer Olympics')]
female_winter_olympics_df = female_country_event_recent_df[female_country_event_recent_df['edition'].str.contains('Winter Olympics')]
print(female_summer_olympics_df.shape)
print(female_winter_olympics_df.shape)


print(female_summer_olympics_df.info())
print(female_winter_olympics_df.info())


female_summer_olympics_df.head(3)


female_winter_olympics_df.head(3)


female_winter_olympics_df['medal'].value_counts()


mask = female_summer_olympics_df.medal == "Gold"
Gold_female_summer_olympics_df = female_summer_olympics_df.loc[mask]
print(Gold_female_summer_olympics_df.shape)
Gold_female_summer_olympics_df.head()


Gold_female_summer_olympics_df["event"].values





def get_medal_color_df(df, color):
    if color not in MEDAL_TYPES:
        raise ValueError(f"Invalid medal type {color}")

    mask = df.medal == color
    color_df = df.loc[mask]
    print(color_df.shape)
    return color_df


#female_gold_df = get_medal_color_df(female_winter_olympics_df, 'Gold')
get_medal_color_df(female_winter_olympics_df, 'Silver').head(3)


def get_medal_count_by_country(df, color):
    count_s = get_medal_color_df(df, 'Gold').groupby('country').count().iloc[:, 0].sort_values(ascending=False)
    return count_s


def get_all_medal_counts_by_country(df):
    medal_counts_by_country = {color: get_medal_count_by_country(df, color) 
                                  for color in MEDAL_TYPES}
    return medal_counts_by_country


# Sort the countries by the number of gold medals in descending order
female_winter_medal_counts_by_country = get_all_medal_counts_by_country(female_winter_olympics_df)
female_winter_medal_counts_by_country['Gold'].head(10)


print(female_winter_medal_counts_by_country['Gold'].index)
print(female_winter_medal_counts_by_country['Gold'].values)


female_winter_olympics_df["sport"].head().values








female_winter_olympics_df["sport"].describe()





import seaborn as sns
import matplotlib.pyplot as plt

plt.figure(figsize=(30, 10))

# Assuming 'Country' and 'Gold' are the relevant columns
#plt.bar(x='country', y='medal', data=Gold_female_winter_top_10_countries_df, height=medal_counts, color="#9A4C95", align="center")

plt.bar(x=female_winter_medal_counts_by_country['Gold'].index,  # Use column for x-axis positions
        height=female_winter_medal_counts_by_country['Gold'].values,  # Provide medal count for heights
        color="#9A4C95",
        align="center")

# Customize the plot (optional)
plt.title('Top 10 Countries: Female Winter Olympic Gold Medals')
plt.xlabel('country')
plt.ylabel('Number of Gold Medals')
plt.xticks(rotation=45)  # Rotate x-axis labels for better readability

# Set X/Y Limits
#plt.ylim(0, 1160)
#plt.xlim(0, 10000)

# Show the plot
plt.show()






countries = female_winter_medal_counts_by_country['Gold'].index
medals_per_country = female_winter_medal_counts_by_country['Gold'].values

# Change Canvas Size
plt.figure(figsize=(20, 10))

# Create a basic plot
plt.scatter(countries, medals_per_country , color="#9A4C95", edgecolor="black", s=200)

# Customizations

# Change colors
# Add in reference lines
# Add Labels/Title
plt.xlabel("Countries", fontfamily="Arial", fontsize=12)
plt.ylabel("Gold Count", fontfamily="Arial", fontsize=12)
plt.title("Gold per Country", fontweight="bold", fontsize=16, fontfamily="Arial")

plt.xticks(rotation=90)

# Set X/Y Limits
plt.ylim(-1, 150)
plt.xlim(-1, 25)

# Add in a background grid
plt.grid(linestyle="--", color="lightgrey", alpha=0.75)

# Show/Save the Graph
plt.show()





import seaborn as sns
import matplotlib.pyplot as plt

plt.figure(figsize=(10, 10))

# Assuming 'Country' and 'Gold' are the relevant columns
#plt.bar(x='country', y='medal', data=Gold_female_winter_top_10_countries_df, height=medal_counts, color="#9A4C95", align="center")

plt.bar(x=Gold_female_summer_olympics_df["event"].values,  # Use column for x-axis positions
        height=female_winter_medal_counts_by_country['Gold'].values,  # Provide medal count for heights
        color="#9A4C95",
        align="center")

# Customize the plot (optional)
plt.title('Top 10 Countries: Female Winter Olympic Gold Medals')
plt.xlabel('country')
plt.ylabel('Number of Gold Medals')
plt.xticks(rotation=45)  # Rotate x-axis labels for better readability

# Set X/Y Limits
plt.ylim(0, 11)
plt.xlim(0, 10)

# Show the plot
plt.show()












