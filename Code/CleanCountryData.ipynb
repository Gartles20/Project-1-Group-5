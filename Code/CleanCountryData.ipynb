{
 "cells": [
  {
   "cell_type": "code",
   "execution_count": 1,
   "id": "90cbd0ce-8793-46e3-ba70-1e45bf070a92",
   "metadata": {},
   "outputs": [],
   "source": [
    "# Import Dependencies\n",
    "import matplotlib.pyplot as plt\n",
    "import pandas as pd\n",
    "import numpy as np"
   ]
  },
  {
   "cell_type": "code",
   "execution_count": 2,
   "id": "9597ec6c-8ba2-493a-9987-b1ee9b3363fa",
   "metadata": {},
   "outputs": [
    {
     "name": "stdout",
     "output_type": "stream",
     "text": [
      "<class 'pandas.core.frame.DataFrame'>\n",
      "RangeIndex: 316834 entries, 0 to 316833\n",
      "Data columns (total 11 columns):\n",
      " #   Column       Non-Null Count   Dtype \n",
      "---  ------       --------------   ----- \n",
      " 0   edition      316834 non-null  object\n",
      " 1   edition_id   316834 non-null  int64 \n",
      " 2   country_noc  316834 non-null  object\n",
      " 3   sport        316834 non-null  object\n",
      " 4   event        316834 non-null  object\n",
      " 5   result_id    316834 non-null  int64 \n",
      " 6   athlete      316834 non-null  object\n",
      " 7   athlete_id   316834 non-null  int64 \n",
      " 8   pos          316834 non-null  object\n",
      " 9   medal        44687 non-null   object\n",
      " 10  isTeamSport  316834 non-null  bool  \n",
      "dtypes: bool(1), int64(3), object(7)\n",
      "memory usage: 24.5+ MB\n"
     ]
    }
   ],
   "source": [
    "# Import our data into pandas from CSV\n",
    "filepath1 = \"Datasets/Olympic_Athlete_Event_Details.csv\"\n",
    "filepath2 = \"Datasets/Olympic_Country_Profiles.csv\"\n",
    "filepath3 = \"Datasets/Olympic_Event_Results.csv\"\n",
    "filepath4 = \"Datasets/Olympic_Games_Summary.csv\"\n",
    "filepath5 = \"Datasets/Olympic_Medal_Tally_History.csv\"\n",
    "\n",
    "df_Athlete_Event_Details = pd.read_csv(filepath1)\n",
    "df_Country_Profiles = pd.read_csv(filepath2)\n",
    "df_Event_Results = pd.read_csv(filepath3)\n",
    "df_Games_Summary = pd.read_csv(filepath4)\n",
    "df_Medal_Tally_History = pd.read_csv(filepath5)\n",
    "\n",
    "\n",
    "\n",
    "df_Athlete_Event_Details.info()"
   ]
  },
  {
   "cell_type": "code",
   "execution_count": 3,
   "id": "33fabc2d-0a9c-46e9-b5b4-6c60aed53a8e",
   "metadata": {},
   "outputs": [],
   "source": [
    "df_Country_Profiles['country'] = df_Country_Profiles['country'].replace({'Soviet Union': 'Russian Federation'})\n",
    "df_Country_Profiles['country'] = df_Country_Profiles['country'].replace({'Russian Olympic Committee': 'Russian Federation'})\n",
    "df_Country_Profiles['country'] = df_Country_Profiles['country'].replace({'ROC': 'Russian Federation'})\n",
    "df_Country_Profiles['country'] = df_Country_Profiles['country'].replace({'Unified Team': 'Russian Federation'})\n",
    "df_Country_Profiles['country'] = df_Country_Profiles['country'].replace({'East Germany': 'Germany'})\n",
    "df_Country_Profiles['country'] = df_Country_Profiles['country'].replace({'West Germany': 'Germany'})\n",
    "df_Country_Profiles['country'] = df_Country_Profiles['country'].replace({'Saar': 'Germany'})\n",
    "df_Country_Profiles['country'] = df_Country_Profiles['country'].replace({'Bohemia': 'Czechia'})\n",
    "df_Country_Profiles['country'] = df_Country_Profiles['country'].replace({'Australasia': 'Australia'})\n",
    "df_Country_Profiles['country'] = df_Country_Profiles['country'].replace({'Rhodesia': 'Zimbabwe'})\n",
    "df_Country_Profiles['country'] = df_Country_Profiles['country'].replace({'South Yemen': 'Yemen'})\n",
    "df_Country_Profiles['country'] = df_Country_Profiles['country'].replace({'North Yemen': 'Yemen'})\n",
    "df_Country_Profiles['country'] = df_Country_Profiles['country'].replace({'Serbia and Montenegro': 'Serbia'})\n",
    "df_Country_Profiles['country'] = df_Country_Profiles['country'].replace({\"Democratic People's Republic of Korea\": \"Republic of Korea\"})\n",
    "df_Country_Profiles['country'] = df_Country_Profiles['country'].replace({\"Korea Town\": \"Republic of Korea\"})\n",
    "df_Country_Profiles['country'] = df_Country_Profiles['country'].replace({'South Vietnam': 'Vietnam'})"
   ]
  },
  {
   "cell_type": "code",
   "execution_count": 4,
   "id": "daa5607b-c979-4655-a700-ace43ae16f63",
   "metadata": {},
   "outputs": [],
   "source": [
    "df_Country_Profiles.to_csv(\"Datasets/Country_Profiles_Clean.csv\", index = False)"
   ]
  },
  {
   "cell_type": "code",
   "execution_count": null,
   "id": "8c8d46a0-d922-4cd6-a28a-0d59b2304ba8",
   "metadata": {},
   "outputs": [],
   "source": []
  }
 ],
 "metadata": {
  "kernelspec": {
   "display_name": "Python 3 (ipykernel)",
   "language": "python",
   "name": "python3"
  },
  "language_info": {
   "codemirror_mode": {
    "name": "ipython",
    "version": 3
   },
   "file_extension": ".py",
   "mimetype": "text/x-python",
   "name": "python",
   "nbconvert_exporter": "python",
   "pygments_lexer": "ipython3",
   "version": "3.10.15"
  }
 },
 "nbformat": 4,
 "nbformat_minor": 5
}
